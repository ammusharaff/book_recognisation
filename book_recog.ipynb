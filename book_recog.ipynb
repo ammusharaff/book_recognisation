{
 "cells": [
  {
   "cell_type": "code",
   "execution_count": null,
   "id": "5658d90f-5d2a-4dab-a16b-08c2c5e328b2",
   "metadata": {},
   "outputs": [],
   "source": [
    "import easyocr\n",
    "import cv2\n",
    "\n",
    "def scan_book(image_path):\n",
    "    image = cv2.imread(image_path)\n",
    "    return image\n",
    "\n",
    "def read_book(image):\n",
    "    # Initialize the EasyOCR reader\n",
    "    reader = easyocr.Reader(['en'])\n",
    "\n",
    "    # Perform OCR on the image\n",
    "    result = reader.readtext(image)\n",
    "    # Extract the heading or title\n",
    "\n",
    "    top_words = []\n",
    "    top_sizes = []\n",
    "    num_top_words = 4\n",
    "\n",
    "    for detection in result:\n",
    "        _, _, prob = detection\n",
    "        bounding_box = detection[0]\n",
    "        width = bounding_box[1][0] - bounding_box[0][0]\n",
    "        height = bounding_box[2][1] - bounding_box[0][1]\n",
    "        size = width * height\n",
    "\n",
    "        # Check if the current word should be included in the top words list\n",
    "        if len(top_words) < num_top_words:\n",
    "            top_words.append(detection[1])\n",
    "            top_sizes.append(size)\n",
    "        else:\n",
    "            min_size = min(top_sizes)\n",
    "            if size > min_size:\n",
    "                min_index = top_sizes.index(min_size)\n",
    "                top_words[min_index] = detection[1]\n",
    "                top_sizes[min_index] = size\n",
    "\n",
    "    book_name = \"\"\n",
    "    for word in top_words:\n",
    "        print(word)\n",
    "        book_name = book_name + \" \" + word\n",
    "    return book_name\n",
    "\n",
    "def search_book_amazon(book_title):\n",
    "    # Format the book title for the search query\n",
    "    search_query = book_title.replace(' ', '+')\n",
    "\n",
    "    # Create the Amazon search URL\n",
    "    amazon_url = f'https://www.amazon.com/s?k={search_query}'\n",
    "    print(\"The amazon link for the book you scanned is : \\n\")\n",
    "    print(amazon_url)\n",
    "\n",
    "# Usage example\n",
    "\n",
    "def video_frame():\n",
    "    cap = cv2.VideoCapture(0)\n",
    "\n",
    "    while True:\n",
    "        # Capture frame-by-frame\n",
    "        ret, frame = cap.read()\n",
    "\n",
    "        # Display the resulting frame\n",
    "        cv2.imshow('Webcam', frame)\n",
    "\n",
    "        # Check for key press events\n",
    "        key = cv2.waitKey(1)\n",
    "        if key == ord('q'):\n",
    "            # Quit the program if 'q' is pressed\n",
    "            break\n",
    "        elif key == ord('c'):\n",
    "            book_name = read_book(frame)\n",
    "            search_book_amazon(book_name)\n",
    "\n",
    "    # Release the VideoCapture object and close any open windows\n",
    "    cap.release()\n",
    "    cv2.destroyAllWindows()\n",
    "    \n",
    "#video_frame()\n",
    "\n",
    "image_path = \"book1.png\" \n",
    "print(image_path)\n",
    "image = scan_book(image_path)\n",
    "book_name = read_book(image)\n",
    "search_book_amazon(book_name)"
   ]
  },
  {
   "cell_type": "code",
   "execution_count": null,
   "id": "ff4e0503-7e7b-4305-a042-f5d1aa2b7c4d",
   "metadata": {},
   "outputs": [],
   "source": [
    "!python pgm1.py"
   ]
  },
  {
   "cell_type": "code",
   "execution_count": 9,
   "id": "442e992b-69af-42e9-87c0-b261ba628e04",
   "metadata": {},
   "outputs": [
    {
     "name": "stdout",
     "output_type": "stream",
     "text": [
      "Requirement already satisfied: opencv-python in c:\\users\\admin\\anaconda3\\lib\\site-packages (4.7.0.72)\n",
      "Requirement already satisfied: numpy>=1.19.3 in c:\\users\\admin\\anaconda3\\lib\\site-packages (from opencv-python) (1.23.5)\n",
      "Note: you may need to restart the kernel to use updated packages.\n"
     ]
    }
   ],
   "source": [
    "pip install opencv-python"
   ]
  },
  {
   "cell_type": "code",
   "execution_count": 2,
   "id": "ed6e5b99-8b0e-46b5-a5e2-63ef3bfda18b",
   "metadata": {},
   "outputs": [
    {
     "name": "stdout",
     "output_type": "stream",
     "text": [
      "Requirement already satisfied: easyocr in c:\\users\\admin\\anaconda3\\lib\\site-packages (1.7.0)\n",
      "Requirement already satisfied: numpy in c:\\users\\admin\\anaconda3\\lib\\site-packages (from easyocr) (1.23.5)\n",
      "Requirement already satisfied: torchvision>=0.5 in c:\\users\\admin\\anaconda3\\lib\\site-packages (from easyocr) (0.15.2)\n",
      "Requirement already satisfied: python-bidi in c:\\users\\admin\\anaconda3\\lib\\site-packages (from easyocr) (0.4.2)\n",
      "Requirement already satisfied: Pillow in c:\\users\\admin\\anaconda3\\lib\\site-packages (from easyocr) (9.4.0)\n",
      "Requirement already satisfied: Shapely in c:\\users\\admin\\anaconda3\\lib\\site-packages (from easyocr) (2.0.1)\n",
      "Requirement already satisfied: PyYAML in c:\\users\\admin\\anaconda3\\lib\\site-packages (from easyocr) (6.0)\n",
      "Requirement already satisfied: scikit-image in c:\\users\\admin\\anaconda3\\lib\\site-packages (from easyocr) (0.19.3)\n",
      "Requirement already satisfied: opencv-python-headless in c:\\users\\admin\\anaconda3\\lib\\site-packages (from easyocr) (4.7.0.72)\n",
      "Requirement already satisfied: torch in c:\\users\\admin\\anaconda3\\lib\\site-packages (from easyocr) (2.0.1)\n",
      "Requirement already satisfied: ninja in c:\\users\\admin\\anaconda3\\lib\\site-packages (from easyocr) (1.11.1)\n",
      "Requirement already satisfied: pyclipper in c:\\users\\admin\\anaconda3\\lib\\site-packages (from easyocr) (1.3.0.post4)\n",
      "Requirement already satisfied: scipy in c:\\users\\admin\\anaconda3\\lib\\site-packages (from easyocr) (1.10.0)\n",
      "Requirement already satisfied: requests in c:\\users\\admin\\anaconda3\\lib\\site-packages (from torchvision>=0.5->easyocr) (2.28.1)\n",
      "Requirement already satisfied: networkx in c:\\users\\admin\\anaconda3\\lib\\site-packages (from torch->easyocr) (2.8.4)\n",
      "Requirement already satisfied: jinja2 in c:\\users\\admin\\anaconda3\\lib\\site-packages (from torch->easyocr) (3.1.2)\n",
      "Requirement already satisfied: filelock in c:\\users\\admin\\anaconda3\\lib\\site-packages (from torch->easyocr) (3.9.0)\n",
      "Requirement already satisfied: typing-extensions in c:\\users\\admin\\anaconda3\\lib\\site-packages (from torch->easyocr) (4.4.0)\n",
      "Requirement already satisfied: sympy in c:\\users\\admin\\anaconda3\\lib\\site-packages (from torch->easyocr) (1.11.1)\n",
      "Requirement already satisfied: six in c:\\users\\admin\\anaconda3\\lib\\site-packages (from python-bidi->easyocr) (1.16.0)\n",
      "Requirement already satisfied: tifffile>=2019.7.26 in c:\\users\\admin\\anaconda3\\lib\\site-packages (from scikit-image->easyocr) (2021.7.2)\n",
      "Requirement already satisfied: packaging>=20.0 in c:\\users\\admin\\anaconda3\\lib\\site-packages (from scikit-image->easyocr) (22.0)\n",
      "Requirement already satisfied: imageio>=2.4.1 in c:\\users\\admin\\anaconda3\\lib\\site-packages (from scikit-image->easyocr) (2.26.0)\n",
      "Requirement already satisfied: PyWavelets>=1.1.1 in c:\\users\\admin\\anaconda3\\lib\\site-packages (from scikit-image->easyocr) (1.4.1)\n",
      "Requirement already satisfied: MarkupSafe>=2.0 in c:\\users\\admin\\anaconda3\\lib\\site-packages (from jinja2->torch->easyocr) (2.1.1)\n",
      "Requirement already satisfied: urllib3<1.27,>=1.21.1 in c:\\users\\admin\\anaconda3\\lib\\site-packages (from requests->torchvision>=0.5->easyocr) (1.26.14)\n",
      "Requirement already satisfied: charset-normalizer<3,>=2 in c:\\users\\admin\\anaconda3\\lib\\site-packages (from requests->torchvision>=0.5->easyocr) (2.0.4)\n",
      "Requirement already satisfied: idna<4,>=2.5 in c:\\users\\admin\\anaconda3\\lib\\site-packages (from requests->torchvision>=0.5->easyocr) (3.4)\n",
      "Requirement already satisfied: certifi>=2017.4.17 in c:\\users\\admin\\anaconda3\\lib\\site-packages (from requests->torchvision>=0.5->easyocr) (2022.12.7)\n",
      "Requirement already satisfied: mpmath>=0.19 in c:\\users\\admin\\anaconda3\\lib\\site-packages (from sympy->torch->easyocr) (1.2.1)\n",
      "Note: you may need to restart the kernel to use updated packages.\n"
     ]
    }
   ],
   "source": [
    "pip install easyocr"
   ]
  },
  {
   "cell_type": "code",
   "execution_count": null,
   "id": "771e09cf-271a-4992-aa48-4a8316737c0d",
   "metadata": {},
   "outputs": [],
   "source": []
  }
 ],
 "metadata": {
  "kernelspec": {
   "display_name": "Python 3 (ipykernel)",
   "language": "python",
   "name": "python3"
  },
  "language_info": {
   "codemirror_mode": {
    "name": "ipython",
    "version": 3
   },
   "file_extension": ".py",
   "mimetype": "text/x-python",
   "name": "python",
   "nbconvert_exporter": "python",
   "pygments_lexer": "ipython3",
   "version": "3.10.9"
  }
 },
 "nbformat": 4,
 "nbformat_minor": 5
}
